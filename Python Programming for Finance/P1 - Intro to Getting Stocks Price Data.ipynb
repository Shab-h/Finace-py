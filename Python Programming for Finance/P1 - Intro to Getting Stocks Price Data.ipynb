{
 "cells": [
  {
   "cell_type": "code",
   "execution_count": 1,
   "metadata": {},
   "outputs": [],
   "source": [
    "#This is a Sentdex Python Programming for Finace series.\n",
    "#Part-1\n",
    "#Website Tutorial Link: https://pythonprogramming.net/getting-stock-prices-python-programming-for-finance/"
   ]
  },
  {
   "cell_type": "code",
   "execution_count": 2,
   "metadata": {},
   "outputs": [],
   "source": [
    "import datetime as dt\n",
    "import matplotlib.pyplot as plt\n",
    "from matplotlib import style\n",
    "import pandas as pd\n",
    "import pandas_datareader.data as web"
   ]
  },
  {
   "cell_type": "code",
   "execution_count": 3,
   "metadata": {},
   "outputs": [
    {
     "name": "stdout",
     "output_type": "stream",
     "text": [
      "                  High         Low        Open       Close   Volume  \\\n",
      "Date                                                                  \n",
      "2015-01-02  223.250000  213.259995  222.869995  219.309998  4764400   \n",
      "2015-01-05  216.500000  207.160004  214.550003  210.089996  5368500   \n",
      "2015-01-06  214.199997  204.210007  210.059998  211.279999  6261900   \n",
      "2015-01-07  214.779999  209.779999  213.350006  210.949997  2968400   \n",
      "2015-01-08  213.800003  210.009995  212.809998  210.619995  3442500   \n",
      "\n",
      "             Adj Close  \n",
      "Date                    \n",
      "2015-01-02  219.309998  \n",
      "2015-01-05  210.089996  \n",
      "2015-01-06  211.279999  \n",
      "2015-01-07  210.949997  \n",
      "2015-01-08  210.619995  \n"
     ]
    }
   ],
   "source": [
    "style.use('ggplot')\n",
    "\n",
    "#Initializing the Start and end dates\n",
    "start = dt.datetime(2015, 1, 1)\n",
    "end = dt.datetime.now()\n",
    "\n",
    "#Reading the data from the website \n",
    "df = web.DataReader(\"TSLA\", 'yahoo', start, end)\n",
    "print(df.head())"
   ]
  },
  {
   "cell_type": "code",
   "execution_count": null,
   "metadata": {},
   "outputs": [],
   "source": []
  }
 ],
 "metadata": {
  "kernelspec": {
   "display_name": "Python 3.7.4 64-bit",
   "language": "python",
   "name": "python37464bitbdbe3b0c278c4089be301031efbd9429"
  },
  "language_info": {
   "codemirror_mode": {
    "name": "ipython",
    "version": 3
   },
   "file_extension": ".py",
   "mimetype": "text/x-python",
   "name": "python",
   "nbconvert_exporter": "python",
   "pygments_lexer": "ipython3",
   "version": "3.7.4"
  }
 },
 "nbformat": 4,
 "nbformat_minor": 4
}
